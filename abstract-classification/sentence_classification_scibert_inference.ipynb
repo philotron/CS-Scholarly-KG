{
 "cells": [
  {
   "cell_type": "code",
   "execution_count": null,
   "metadata": {},
   "outputs": [],
   "source": [
    "from datasets import Dataset\n",
    "from transformers import (\n",
    "    AutoTokenizer,\n",
    "    AutoModelForSequenceClassification\n",
    ")\n",
    "from nltk.tokenize import sent_tokenize"
   ]
  },
  {
   "cell_type": "code",
   "execution_count": null,
   "metadata": {},
   "outputs": [],
   "source": [
    "# load tokenizer and fine-tuned model\n",
    "\n",
    "model_checkpoint = \"allenai/scibert_scivocab_uncased\"\n",
    "tokenizer = AutoTokenizer.from_pretrained(model_checkpoint)\n",
    "\n",
    "model_checkpoint = \"scibert-finetuned-abstract-classification/best_model\"\n",
    "model = AutoModelForSequenceClassification.from_pretrained(model_checkpoint, num_labels=5)\n",
    "model.to(\"cuda\")"
   ]
  },
  {
   "cell_type": "code",
   "execution_count": null,
   "metadata": {},
   "outputs": [],
   "source": [
    "# tokenizing function\n",
    "\n",
    "def preprocess_function_batch(examples):\n",
    "    return tokenizer(\n",
    "        examples[\"sentence\"], \n",
    "        truncation=True,\n",
    "        padding=True,\n",
    "        max_length=512,\n",
    "        #add_special_tokens=True,\n",
    "        return_tensors=\"pt\"\n",
    "    )"
   ]
  },
  {
   "cell_type": "code",
   "execution_count": null,
   "metadata": {},
   "outputs": [],
   "source": [
    "# inference function\n",
    "\n",
    "def classify_abstract_sentences(id: str, abstract: str) -> dict:\n",
    "    \n",
    "    #generate single sentences from abstract\n",
    "    abstract_sentences = sent_tokenize(abstract)\n",
    "    \n",
    "    #generate tokenized dataset from abstract\n",
    "    test_data = [\n",
    "        {\n",
    "            \"sentence\": sentence\n",
    "        }\n",
    "        for sentence in abstract_sentences\n",
    "    ]\n",
    "    test_dataset = Dataset.from_list(test_data)\n",
    "    encoded_test_data = preprocess_function_batch(test_dataset).to(\"cuda\")\n",
    "\n",
    "    #infer from model\n",
    "    output = model(**encoded_test_data)\n",
    "    predictions = output.logits.argmax(-1)\n",
    "\n",
    "    #concatenate sentences of each class \n",
    "    classified_sents = [\"\", \"\", \"\", \"\", \"\"]\n",
    "    for ix, sentence in enumerate(abstract_sentences):\n",
    "        classified_sents[predictions[ix]] += sentence + \" \"\n",
    "\n",
    "    #add \"none\" to empty classes & remove final space\n",
    "    for ix, abstract_class in enumerate(classified_sents):\n",
    "        if len(abstract_class) == 0:\n",
    "            classified_sents[ix] = \"none\"\n",
    "        else:\n",
    "            classified_sents[ix] = abstract_class[:-1]\n",
    "\n",
    "    #generate output dict\n",
    "    output_dict = {\n",
    "        \"id\": id,\n",
    "        \"background\": classified_sents[0],\n",
    "        \"objective\": classified_sents[1],\n",
    "        \"methods\": classified_sents[2],\n",
    "        \"results\": classified_sents[3],\n",
    "        \"conclusions\": classified_sents[4]\n",
    "    }\n",
    "    return output_dict "
   ]
  },
  {
   "cell_type": "code",
   "execution_count": null,
   "metadata": {},
   "outputs": [],
   "source": [
    "# Testing\n",
    "\n",
    "abstract1 = \"\"\"Recent deep learning models can efficiently combine inputs from different modalities (e.g., images and text) and learn to align their latent representations, or to translate signals from one domain to another (as in image captioning, or text-to-image generation). However, current approaches mainly rely on brute-force supervised training over large multimodal datasets. In contrast, humans (and other animals) can learn useful multimodal representations from only sparse experience with matched cross-modal data. Here we evaluate the capabilities of a neural network architecture inspired by the cognitive notion of a \"Global Workspace\": a shared representation for two (or more) input modalities. Each modality is processed by a specialized system (pretrained on unimodal data, and subsequently frozen). The corresponding latent representations are then encoded to and decoded from a single shared workspace. Importantly, this architecture is amenable to self-supervised training via cycle-consistency: encoding-decoding sequences should approximate the identity function. For various pairings of vision-language modalities and across two datasets of varying complexity, we show that such an architecture can be trained to align and translate between two modalities with very little need for matched data (from 4 to 7 times less than a fully supervised approach). The global workspace representation can be used advantageously for downstream classification tasks and for robust transfer learning. Ablation studies reveal that both the shared workspace and the self-supervised cycle-consistency training are critical to the system's performance.\"\"\"\n",
    "abstract2 = \"\"\"Multimodal Sentiment Analysis leverages multimodal signals to detect the sentiment of a speaker. Previous approaches concentrate on performing multimodal fusion and representation learning based on general knowledge obtained from pretrained models, which neglects the effect of domain-specific knowledge. In this paper, we propose Contrastive Knowledge Injection (ConKI) for multimodal sentiment analysis, where specific-knowledge representations for each modality can be learned together with general knowledge representations via knowledge injection based on an adapter architecture. In addition, ConKI uses a hierarchical contrastive learning procedure performed between knowledge types within every single modality, across modalities within each sample, and across samples to facilitate the effective learning of the proposed representations, hence improving multimodal sentiment predictions. The experiments on three popular multimodal sentiment analysis benchmarks show that ConKI outperforms all prior methods on a variety of performance metrics.\"\"\"\n",
    "\n",
    "output_dict1 = classify_abstract_sentences(\"id_12418934577\", abstract1)\n",
    "output_dict2 = classify_abstract_sentences(\"id_12418973423\", abstract2)\n",
    "\n",
    "print(output_dict1)\n",
    "print(output_dict2)"
   ]
  }
 ],
 "metadata": {
  "kernelspec": {
   "display_name": "Python 3 (ipykernel)",
   "language": "python",
   "name": "python3"
  },
  "language_info": {
   "codemirror_mode": {
    "name": "ipython",
    "version": 3
   },
   "file_extension": ".py",
   "mimetype": "text/x-python",
   "name": "python",
   "nbconvert_exporter": "python",
   "pygments_lexer": "ipython3",
   "version": "3.11.5"
  }
 },
 "nbformat": 4,
 "nbformat_minor": 2
}
